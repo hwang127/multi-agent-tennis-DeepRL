{
 "cells": [
  {
   "cell_type": "markdown",
   "metadata": {},
   "source": [
    "[//]: # (Image References)\n",
    "\n",
    "[image1]: https://user-images.githubusercontent.com/10624937/42135623-e770e354-7d12-11e8-998d-29fc74429ca2.gif \"Trained Agent\"\n",
    "[image2]: https://user-images.githubusercontent.com/10624937/42135622-e55fb586-7d12-11e8-8a54-3c31da15a90a.gif \"Soccer\"\n",
    "\n",
    "\n",
    "# Project 3: Collaboration and Competition\n",
    "\n",
    "### Introduction\n",
    "\n",
    "For this project, you will work with the [Tennis](https://github.com/Unity-Technologies/ml-agents/blob/master/docs/Learning-Environment-Examples.md#tennis) environment.\n",
    "\n",
    "![Trained Agent][image1]\n",
    "\n",
    "In this environment, two agents control rackets to bounce a ball over a net. If an agent hits the ball over the net, it receives a reward of +0.1.  If an agent lets a ball hit the ground or hits the ball out of bounds, it receives a reward of -0.01.  Thus, the goal of each agent is to keep the ball in play.\n",
    "\n",
    "The observation space consists of 8 variables corresponding to the position and velocity of the ball and racket. Each agent receives its own, local observation.  Two continuous actions are available, corresponding to movement toward (or away from) the net, and jumping. \n",
    "\n",
    "The task is episodic, and in order to solve the environment, your agents must get an average score of +0.5 (over 100 consecutive episodes, after taking the maximum over both agents). Specifically,\n",
    "\n",
    "- After each episode, we add up the rewards that each agent received (without discounting), to get a score for each agent. This yields 2 (potentially different) scores. We then take the maximum of these 2 scores.\n",
    "- This yields a single **score** for each episode.\n",
    "\n",
    "The environment is considered solved, when the average (over 100 episodes) of those **scores** is at least +0.5.\n",
    "\n",
    "### Getting Started\n",
    "\n",
    "1. Download the environment from one of the links below.  You need only select the environment that matches your operating system:\n",
    "    - Linux: [click here](https://s3-us-west-1.amazonaws.com/udacity-drlnd/P3/Tennis/Tennis_Linux.zip)\n",
    "    - Mac OSX: [click here](https://s3-us-west-1.amazonaws.com/udacity-drlnd/P3/Tennis/Tennis.app.zip)\n",
    "    - Windows (32-bit): [click here](https://s3-us-west-1.amazonaws.com/udacity-drlnd/P3/Tennis/Tennis_Windows_x86.zip)\n",
    "    - Windows (64-bit): [click here](https://s3-us-west-1.amazonaws.com/udacity-drlnd/P3/Tennis/Tennis_Windows_x86_64.zip)\n",
    "    \n",
    "    (_For Windows users_) Check out [this link](https://support.microsoft.com/en-us/help/827218/how-to-determine-whether-a-computer-is-running-a-32-bit-version-or-64) if you need help with determining if your computer is running a 32-bit version or 64-bit version of the Windows operating system.\n",
    "\n",
    "    (_For AWS_) If you'd like to train the agent on AWS (and have not [enabled a virtual screen](https://github.com/Unity-Technologies/ml-agents/blob/master/docs/Training-on-Amazon-Web-Service.md)), then please use [this link](https://s3-us-west-1.amazonaws.com/udacity-drlnd/P3/Tennis/Tennis_Linux_NoVis.zip) to obtain the \"headless\" version of the environment.  You will **not** be able to watch the agent without enabling a virtual screen, but you will be able to train the agent.  (_To watch the agent, you should follow the instructions to [enable a virtual screen](https://github.com/Unity-Technologies/ml-agents/blob/master/docs/Training-on-Amazon-Web-Service.md), and then download the environment for the **Linux** operating system above._)\n",
    "\n",
    "2. Place the file in the repository folder, and unzip (or decompress) the file. \n",
    "\n",
    "3. Make sure you have installed [Unity ML-Agents](https://github.com/Unity-Technologies/ml-agents/blob/master/docs/Installation.md) and [NumPy](http://www.numpy.org/).\n",
    "\n",
    "\n"
   ]
  },
  {
   "cell_type": "markdown",
   "metadata": {},
   "source": [
    "### Introduction\n",
    "\n",
    "I used the DDPG algorithm. We used similar arthitectures for the actor and critic agents. Both have 4 hidden layers. Hyperparameters are given below:"
   ]
  },
  {
   "cell_type": "code",
   "execution_count": null,
   "metadata": {},
   "outputs": [],
   "source": [
    "fc1_units=64           # width for the 1st hidden layer\n",
    "fc2_units=64            # width for the 2nd hidden layer\n",
    "fc3_units=32            # width for the 3rd hidden layer\n",
    "fc4_units=16            # width for the 4th hidden layer\n",
    "\n",
    "BUFFER_SIZE = int(1e6)  # replay buffer size\n",
    "BATCH_SIZE = 256        # minibatch size\n",
    "GAMMA = 1            # discount factor\n",
    "TAU = 1e-3              # for soft update of target parameters\n",
    "LR_ACTOR = 1e-3         # learning rate of the actor \n",
    "LR_CRITIC = 1e-3        # learning rate of the critic\n",
    "WEIGHT_DECAY = 0.0000   # L2 weight decay\n",
    "theta = 0.15            # theta for ON noise\n",
    "sigma = 0.2             # sigma for ON noise"
   ]
  },
  {
   "cell_type": "markdown",
   "metadata": {},
   "source": [
    "Output exceeds the size limit. Open the full output data in a text editor\n",
    "\n",
    "Episode 50\tAverage Score: 0.00\tScore: 0.00\n",
    "\n",
    "Episode 100\tAverage Score: 0.00\tScore: 0.00\n",
    "\n",
    "Episode 150\tAverage Score: 0.00\tScore: 0.00\n",
    "\n",
    "Episode 200\tAverage Score: 0.00\tScore: 0.00\n",
    "\n",
    "Episode 250\tAverage Score: 0.00\tScore: 0.00\n",
    "\n",
    "Episode 300\tAverage Score: 0.00\tScore: 0.00\n",
    "\n",
    "Episode 350\tAverage Score: 0.01\tScore: 0.00\n",
    "\n",
    "Episode 400\tAverage Score: 0.01\tScore: 0.00\n",
    "\n",
    "Episode 450\tAverage Score: 0.01\tScore: 0.00\n",
    "\n",
    "Episode 500\tAverage Score: 0.00\tScore: 0.00\n",
    "\n",
    "Episode 550\tAverage Score: 0.00\tScore: 0.00\n",
    "\n",
    "Episode 600\tAverage Score: 0.02\tScore: 0.00\n",
    "\n",
    "Episode 650\tAverage Score: 0.04\tScore: 0.10\n",
    "\n",
    "Episode 700\tAverage Score: 0.05\tScore: 0.00\n",
    "\n",
    "Episode 750\tAverage Score: 0.05\tScore: 0.10\n",
    "\n",
    "Episode 800\tAverage Score: 0.08\tScore: 0.10\n",
    "\n",
    "Episode 850\tAverage Score: 0.10\tScore: 0.10\n",
    "\n",
    "Episode 900\tAverage Score: 0.12\tScore: 0.10\n",
    "\n",
    "Episode 950\tAverage Score: 0.14\tScore: 0.09\n",
    "\n",
    "Episode 1000\tAverage Score: 0.15\tScore: 0.10\n",
    "\n",
    "Episode 1050\tAverage Score: 0.16\tScore: 0.50\n",
    "\n",
    "Episode 1100\tAverage Score: 0.15\tScore: 0.00\n",
    "\n",
    "Episode 1150\tAverage Score: 0.10\tScore: 0.00\n",
    "\n",
    "Episode 1200\tAverage Score: 0.11\tScore: 0.19\n",
    "\n",
    "Episode 1250\tAverage Score: 0.14\tScore: 0.10\n",
    "\n",
    "Episode 1350\tAverage Score: 0.24\tScore: 0.00\n",
    "\n",
    "Episode 1400\tAverage Score: 0.22\tScore: 0.39\n",
    "\n",
    "Episode 1450\tAverage Score: 0.28\tScore: 0.30\n",
    "\n",
    "Episode 1500\tAverage Score: 0.34\tScore: 0.30\n",
    "\n",
    "Episode 1550\tAverage Score: 0.50\tScore: 1.20\n",
    "\n",
    "Episode 1551\tAverage Score: 0.50\tScore: 0.60"
   ]
  },
  {
   "cell_type": "code",
   "execution_count": null,
   "metadata": {},
   "outputs": [
    {
     "data": {
      "image/png": "[encoded data removed]",
      "text/plain": [
       "<matplotlib.figure.Figure at 0x7f7e98a34358>"
      ]
     },
     "metadata": {},
     "output_type": "display_data"
    }
   ],
   "source": [
    "import matplotlib.pyplot as plt\n",
    "fig = plt.figure()\n",
    "ax = fig.add_subplot(111)\n",
    "mean_scores = [np.mean(scores[i:i+101]) for i in range(len(scores) - 101)]\n",
    "plt.plot(np.arange(1, len(scores)+1), scores)\n",
    "plt.plot(np.arange(102, len(scores)+1), mean_scores)\n",
    "plt.ylabel('Score')\n",
    "plt.xlabel('Episode #')\n",
    "plt.show()"
   ]
  },
  {
   "cell_type": "markdown",
   "metadata": {},
   "source": [
    "### Future improvements\n",
    "\n",
    "I noticed the agent doesn't acquire any points for the first 500+ episodes. Maybe we can make the agent's action more random at the begining to quickly explore the action space. "
   ]
  }
 ],
 "metadata": {
  "kernelspec": {
   "display_name": "Python 3",
   "language": "python",
   "name": "python3"
  }
 },
 "nbformat": 4,
 "nbformat_minor": 2
}
